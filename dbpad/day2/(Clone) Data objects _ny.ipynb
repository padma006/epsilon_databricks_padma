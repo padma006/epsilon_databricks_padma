{
 "cells": [
  {
   "cell_type": "markdown",
   "metadata": {
    "application/vnd.databricks.v1+cell": {
     "cellMetadata": {},
     "inputWidgets": {},
     "nuid": "a889ba60-a21b-4e25-ac8b-22884b49529e",
     "showTitle": false,
     "tableResultSettingsMap": {},
     "title": ""
    }
   },
   "source": [
    "![](/Volumes/auto/naval/raw/object-model.png)"
   ]
  },
  {
   "cell_type": "markdown",
   "metadata": {
    "application/vnd.databricks.v1+cell": {
     "cellMetadata": {},
     "inputWidgets": {},
     "nuid": "ee7f2fd6-e148-4fb5-9ac2-ad6118ce40c3",
     "showTitle": false,
     "tableResultSettingsMap": {},
     "title": ""
    }
   },
   "source": [
    "### Database objects in databricks"
   ]
  },
  {
   "cell_type": "code",
   "execution_count": 0,
   "metadata": {
    "application/vnd.databricks.v1+cell": {
     "cellMetadata": {},
     "inputWidgets": {},
     "nuid": "887cf941-930c-4f58-afb6-0531dd810b11",
     "showTitle": true,
     "tableResultSettingsMap": {},
     "title": "link"
    }
   },
   "outputs": [],
   "source": [
    "%python\n",
    "https://docs.databricks.com/aws/en/database-objects/"
   ]
  },
  {
   "cell_type": "code",
   "execution_count": 0,
   "metadata": {
    "application/vnd.databricks.v1+cell": {
     "cellMetadata": {
      "byteLimit": 2048000,
      "rowLimit": 10000
     },
     "inputWidgets": {},
     "nuid": "a053c122-c2c1-4df7-ba82-5c072bf49b1d",
     "showTitle": true,
     "tableResultSettingsMap": {},
     "title": "create schema"
    }
   },
   "outputs": [],
   "source": [
    "use catalog auto;\n",
    "create schema if not exists auto.naval;"
   ]
  },
  {
   "cell_type": "code",
   "execution_count": 0,
   "metadata": {
    "application/vnd.databricks.v1+cell": {
     "cellMetadata": {
      "byteLimit": 2048000,
      "rowLimit": 10000
     },
     "inputWidgets": {},
     "nuid": "df4d770e-9547-43d2-bbc8-d5f2260124be",
     "showTitle": false,
     "tableResultSettingsMap": {},
     "title": ""
    }
   },
   "outputs": [],
   "source": [
    "create table if not exists auto.naval.demo ( id int, name string)"
   ]
  },
  {
   "cell_type": "code",
   "execution_count": 0,
   "metadata": {
    "application/vnd.databricks.v1+cell": {
     "cellMetadata": {
      "byteLimit": 2048000,
      "rowLimit": 10000
     },
     "inputWidgets": {},
     "nuid": "b5803ec4-d185-4ae8-ace3-052c0d768216",
     "showTitle": false,
     "tableResultSettingsMap": {},
     "title": ""
    }
   },
   "outputs": [],
   "source": [
    "insert into auto.naval.demo values (2,'Ketki'),(3,'Praveen')"
   ]
  },
  {
   "cell_type": "code",
   "execution_count": 0,
   "metadata": {
    "application/vnd.databricks.v1+cell": {
     "cellMetadata": {
      "byteLimit": 2048000,
      "rowLimit": 10000
     },
     "inputWidgets": {},
     "nuid": "cd8b081f-558d-4587-a6a1-007bd3c6c3f8",
     "showTitle": true,
     "tableResultSettingsMap": {},
     "title": "View"
    }
   },
   "outputs": [],
   "source": [
    "create view auto.naval.demo_view as \n",
    "select * from auto.naval.demo where id =1 "
   ]
  },
  {
   "cell_type": "code",
   "execution_count": 0,
   "metadata": {
    "application/vnd.databricks.v1+cell": {
     "cellMetadata": {},
     "inputWidgets": {},
     "nuid": "f76e6f07-7bf1-4c42-8677-5754ce269f8f",
     "showTitle": true,
     "tableResultSettingsMap": {},
     "title": "Task"
    }
   },
   "outputs": [],
   "source": [
    "Task;\n",
    "\n",
    "1. create schema with yourname in auto catalog;\n",
    "2. create demo table in your schema \n",
    "3. insert values "
   ]
  },
  {
   "cell_type": "code",
   "execution_count": 0,
   "metadata": {
    "application/vnd.databricks.v1+cell": {
     "cellMetadata": {},
     "inputWidgets": {},
     "nuid": "817d4a57-1aef-4f4f-9116-dae8cd16ad69",
     "showTitle": true,
     "tableResultSettingsMap": {},
     "title": "functions"
    }
   },
   "outputs": [],
   "source": [
    "create function function_name(para datatypes)\n",
    "returns datatypes\n",
    "return logic/expression"
   ]
  },
  {
   "cell_type": "code",
   "execution_count": 0,
   "metadata": {
    "application/vnd.databricks.v1+cell": {
     "cellMetadata": {
      "byteLimit": 2048000,
      "rowLimit": 10000
     },
     "inputWidgets": {},
     "nuid": "dbd8882c-347f-423e-9d84-a80dbf77a413",
     "showTitle": false,
     "tableResultSettingsMap": {},
     "title": ""
    }
   },
   "outputs": [],
   "source": [
    "use catalog auto;\n",
    "use schema naval;"
   ]
  },
  {
   "cell_type": "code",
   "execution_count": 0,
   "metadata": {
    "application/vnd.databricks.v1+cell": {
     "cellMetadata": {
      "byteLimit": 2048000,
      "rowLimit": 10000
     },
     "inputWidgets": {},
     "nuid": "bbf4ed1f-4b80-41a0-aa79-4fcc603cabeb",
     "showTitle": false,
     "tableResultSettingsMap": {},
     "title": ""
    }
   },
   "outputs": [],
   "source": [
    "create or replace function auto.naval.full_name(firstname string, lastname string)\n",
    "returns string\n",
    "return concat(firstname, \" \", lastname)"
   ]
  },
  {
   "cell_type": "code",
   "execution_count": 0,
   "metadata": {
    "application/vnd.databricks.v1+cell": {
     "cellMetadata": {
      "byteLimit": 2048000,
      "rowLimit": 10000
     },
     "inputWidgets": {},
     "nuid": "18f42b1b-718a-4979-aa6b-b5eca8f47096",
     "showTitle": false,
     "tableResultSettingsMap": {},
     "title": ""
    }
   },
   "outputs": [],
   "source": [
    "select auto.naval.full_name(\"Naval\",\"Yemul\") as full_name"
   ]
  }
 ],
 "metadata": {
  "application/vnd.databricks.v1+notebook": {
   "computePreferences": null,
   "dashboards": [],
   "environmentMetadata": {
    "base_environment": "",
    "environment_version": "2"
   },
   "inputWidgetPreferences": null,
   "language": "sql",
   "notebookMetadata": {
    "pythonIndentUnit": 4
   },
   "notebookName": "(Clone) Data objects _ny",
   "widgets": {}
  },
  "language_info": {
   "name": "sql"
  }
 },
 "nbformat": 4,
 "nbformat_minor": 0
}
