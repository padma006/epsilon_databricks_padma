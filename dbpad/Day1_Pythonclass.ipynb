{
 "cells": [
  {
   "cell_type": "code",
   "execution_count": 0,
   "metadata": {
    "application/vnd.databricks.v1+cell": {
     "cellMetadata": {},
     "inputWidgets": {},
     "nuid": "91187394-d196-4a77-88d5-66592bc015eb",
     "showTitle": false,
     "tableResultSettingsMap": {},
     "title": ""
    },
    "id": "4U2p5avJCFEa"
   },
   "outputs": [],
   "source": []
  },
  {
   "cell_type": "markdown",
   "metadata": {
    "application/vnd.databricks.v1+cell": {
     "cellMetadata": {},
     "inputWidgets": {},
     "nuid": "f0f91608-68ab-4056-9cf3-816ede936caf",
     "showTitle": false,
     "tableResultSettingsMap": {},
     "title": ""
    },
    "id": "5f2OWEHMEPMt"
   },
   "source": [
    "Starting off with Python"
   ]
  },
  {
   "cell_type": "markdown",
   "metadata": {
    "application/vnd.databricks.v1+cell": {
     "cellMetadata": {},
     "inputWidgets": {},
     "nuid": "340c0756-ea00-4fc6-922d-02c039c83c8e",
     "showTitle": false,
     "tableResultSettingsMap": {},
     "title": ""
    },
    "id": "TKmQdw-OEOOt"
   },
   "source": [
    "Trying out Datatypes:\n",
    "\n",
    "INT\n",
    "Float\n",
    "String\n",
    "Bool\n",
    "Complex"
   ]
  },
  {
   "cell_type": "code",
   "execution_count": 0,
   "metadata": {
    "application/vnd.databricks.v1+cell": {
     "cellMetadata": {},
     "inputWidgets": {},
     "nuid": "1fa6730f-a111-4321-9639-c38d5dc73e7b",
     "showTitle": false,
     "tableResultSettingsMap": {},
     "title": ""
    },
    "colab": {
     "base_uri": "https://localhost:8080/"
    },
    "id": "RthiYZR5Eamv",
    "outputId": "bf38e2c2-79d9-43ac-8164-68e94658b0a6"
   },
   "outputs": [],
   "source": [
    "dt=100\n",
    "print (dt)\n",
    "print (type(dt))\n",
    "print (id(dt))"
   ]
  },
  {
   "cell_type": "code",
   "execution_count": 0,
   "metadata": {
    "application/vnd.databricks.v1+cell": {
     "cellMetadata": {},
     "inputWidgets": {},
     "nuid": "c4294ee7-eea4-4ca8-93e7-8810ec4b253f",
     "showTitle": false,
     "tableResultSettingsMap": {},
     "title": ""
    },
    "colab": {
     "base_uri": "https://localhost:8080/"
    },
    "id": "76Ruli-hFe68",
    "outputId": "7f8db59e-67cc-419b-a816-350b946201ad"
   },
   "outputs": [],
   "source": [
    "dt=100.5\n",
    "print (dt)\n",
    "print (type(dt))"
   ]
  },
  {
   "cell_type": "code",
   "execution_count": 0,
   "metadata": {
    "application/vnd.databricks.v1+cell": {
     "cellMetadata": {},
     "inputWidgets": {},
     "nuid": "e56663d4-7ebd-410b-8963-c47ac4a1fad8",
     "showTitle": false,
     "tableResultSettingsMap": {},
     "title": ""
    },
    "colab": {
     "base_uri": "https://localhost:8080/"
    },
    "id": "F0KW2Cz6FmjE",
    "outputId": "f87d0146-d6df-4099-dc53-32056ebae6f1"
   },
   "outputs": [],
   "source": [
    "dt=\"this is a string\"\n",
    "print (dt)\n",
    "print (type(dt))"
   ]
  },
  {
   "cell_type": "code",
   "execution_count": 0,
   "metadata": {
    "application/vnd.databricks.v1+cell": {
     "cellMetadata": {},
     "inputWidgets": {},
     "nuid": "5f64f4fd-9fe0-4dd6-8c83-6e2927571697",
     "showTitle": false,
     "tableResultSettingsMap": {},
     "title": ""
    },
    "colab": {
     "base_uri": "https://localhost:8080/"
    },
    "id": "Rt0Map-WFvV0",
    "outputId": "33142976-7cb7-453e-806d-a31e1a49703a"
   },
   "outputs": [],
   "source": [
    "dt=\"\"\"this is a string\n",
    "line \"\"\"\n",
    "print (dt)\n",
    "print (type(dt))"
   ]
  },
  {
   "cell_type": "code",
   "execution_count": 0,
   "metadata": {
    "application/vnd.databricks.v1+cell": {
     "cellMetadata": {},
     "inputWidgets": {},
     "nuid": "64872fb5-105f-4d6d-9832-33f7fa0cc08d",
     "showTitle": false,
     "tableResultSettingsMap": {},
     "title": ""
    },
    "colab": {
     "base_uri": "https://localhost:8080/"
    },
    "id": "wzSO-ShbHn10",
    "outputId": "1963d531-d8f2-4bff-b86f-eccf86cbd0e9"
   },
   "outputs": [],
   "source": [
    "a=100\n",
    "print (a)\n",
    "print (type(a))\n",
    "print (id(a))"
   ]
  },
  {
   "cell_type": "code",
   "execution_count": 0,
   "metadata": {
    "application/vnd.databricks.v1+cell": {
     "cellMetadata": {},
     "inputWidgets": {},
     "nuid": "0d9dd88c-fccc-45a0-b837-3778b4f5d876",
     "showTitle": false,
     "tableResultSettingsMap": {},
     "title": ""
    },
    "colab": {
     "base_uri": "https://localhost:8080/"
    },
    "id": "X06KSfiLLuNu",
    "outputId": "787602e9-019b-45b5-acfa-919192008353"
   },
   "outputs": [],
   "source": [
    "s=\"thisisastring\"\n",
    "print(s[-1])\n",
    "print(s[0])\n",
    "print (s[5:10])\n",
    "print (s[6:])"
   ]
  },
  {
   "cell_type": "code",
   "execution_count": 0,
   "metadata": {
    "application/vnd.databricks.v1+cell": {
     "cellMetadata": {},
     "inputWidgets": {},
     "nuid": "828927d8-a939-4cda-9c19-7876d2f5fcb0",
     "showTitle": false,
     "tableResultSettingsMap": {},
     "title": ""
    },
    "colab": {
     "base_uri": "https://localhost:8080/"
    },
    "id": "B56EBoLiL0O7",
    "outputId": "52e35b4f-79ed-407f-f0fe-77c07dbe6aa0"
   },
   "outputs": [],
   "source": [
    "news=\"thisisastring\"+ \"asjdakds\"\n",
    "print (news)"
   ]
  },
  {
   "cell_type": "code",
   "execution_count": 0,
   "metadata": {
    "application/vnd.databricks.v1+cell": {
     "cellMetadata": {},
     "inputWidgets": {},
     "nuid": "adf8df2a-6e37-4719-b121-8ecac16df4ec",
     "showTitle": false,
     "tableResultSettingsMap": {},
     "title": ""
    },
    "colab": {
     "base_uri": "https://localhost:8080/"
    },
    "id": "q2-v8LjNM2nd",
    "outputId": "b29d84d2-f4d3-4fa7-a541-fb12963a6f83"
   },
   "outputs": [],
   "source": [
    "n1 = 23 * 454\n",
    "print (n1)"
   ]
  },
  {
   "cell_type": "markdown",
   "metadata": {
    "application/vnd.databricks.v1+cell": {
     "cellMetadata": {},
     "inputWidgets": {},
     "nuid": "8ddcee86-17dd-4c45-b3da-2c96b59a0c2d",
     "showTitle": false,
     "tableResultSettingsMap": {},
     "title": ""
    },
    "id": "p8NnmOcUNYKX"
   },
   "source": [
    "## + operator can be string or int. Datatype has to be the same\n",
    "## * operator, one if them can be string\n",
    "\n",
    "## + both should str + str (str + str)\n",
    "## * one should str other should be int ( int * str)"
   ]
  },
  {
   "cell_type": "code",
   "execution_count": 0,
   "metadata": {
    "application/vnd.databricks.v1+cell": {
     "cellMetadata": {},
     "inputWidgets": {},
     "nuid": "fdbb4d62-2a59-4372-981a-39c55adbb0ec",
     "showTitle": false,
     "tableResultSettingsMap": {},
     "title": ""
    },
    "colab": {
     "base_uri": "https://localhost:8080/"
    },
    "id": "7xe_uPsFODvJ",
    "outputId": "82defef1-c895-468b-8fe1-d1e37f178615"
   },
   "outputs": [],
   "source": [
    "n2 = \"sdasda\" * 2\n",
    "print (n2)"
   ]
  },
  {
   "cell_type": "markdown",
   "metadata": {
    "application/vnd.databricks.v1+cell": {
     "cellMetadata": {},
     "inputWidgets": {},
     "nuid": "c9cf1fe9-8d63-452f-b61a-3716d5ff76b4",
     "showTitle": false,
     "tableResultSettingsMap": {},
     "title": ""
    },
    "id": "an5yBfPzQc-Z"
   },
   "source": [
    "TYPECASTING"
   ]
  },
  {
   "cell_type": "code",
   "execution_count": 0,
   "metadata": {
    "application/vnd.databricks.v1+cell": {
     "cellMetadata": {},
     "inputWidgets": {},
     "nuid": "62f15e32-ae5c-4c4f-b0e4-25033817ce81",
     "showTitle": false,
     "tableResultSettingsMap": {},
     "title": ""
    },
    "colab": {
     "base_uri": "https://localhost:8080/"
    },
    "id": "wNLSKKMiOptS",
    "outputId": "e47cc619-54a6-427b-ecdf-728efe13d5b1"
   },
   "outputs": [],
   "source": [
    "print(float(10))\n",
    "print(str(10))\n",
    "print(bool(10))\n",
    "print(bool(0))"
   ]
  },
  {
   "cell_type": "code",
   "execution_count": 0,
   "metadata": {
    "application/vnd.databricks.v1+cell": {
     "cellMetadata": {},
     "inputWidgets": {},
     "nuid": "5c7408b2-7d1d-42e6-b83a-6eee8f60c1f8",
     "showTitle": false,
     "tableResultSettingsMap": {},
     "title": ""
    },
    "colab": {
     "base_uri": "https://localhost:8080/"
    },
    "id": "Gg740ahyPV7L",
    "outputId": "bcef8aa8-25be-4428-8479-f3fd80e73e74"
   },
   "outputs": [],
   "source": [
    "print(int(10.1))\n",
    "print(str(10.1))\n",
    "print(bool(10.1))\n",
    "print(bool(0.0))"
   ]
  },
  {
   "cell_type": "code",
   "execution_count": 0,
   "metadata": {
    "application/vnd.databricks.v1+cell": {
     "cellMetadata": {},
     "inputWidgets": {},
     "nuid": "0a853f2e-8ece-4293-80bf-64448b65ce0a",
     "showTitle": false,
     "tableResultSettingsMap": {},
     "title": ""
    },
    "colab": {
     "base_uri": "https://localhost:8080/"
    },
    "id": "eS_yQO-VQoEq",
    "outputId": "178ad667-3f67-4b77-a055-a45884435f3e"
   },
   "outputs": [],
   "source": [
    "print(int(\"10\"))\n",
    "#print(int(\"python\")) # Error\n",
    "#print(float(\"python\")) #Error\n",
    "print(bool(\"python\"))\n",
    "print(bool(\"\"))"
   ]
  },
  {
   "cell_type": "markdown",
   "metadata": {
    "application/vnd.databricks.v1+cell": {
     "cellMetadata": {},
     "inputWidgets": {},
     "nuid": "ec206427-0b1f-4fa4-af4b-2030461d4cdc",
     "showTitle": false,
     "tableResultSettingsMap": {},
     "title": ""
    },
    "id": "nnjTuWmdU34s"
   },
   "source": [
    "Data Type Advance\n",
    "List\n",
    "Tuple\n",
    "Set\n",
    "Dict\n",
    "Range"
   ]
  },
  {
   "cell_type": "markdown",
   "metadata": {
    "application/vnd.databricks.v1+cell": {
     "cellMetadata": {},
     "inputWidgets": {},
     "nuid": "91d8853d-7cd6-4fe4-8352-c0987dfe125e",
     "showTitle": false,
     "tableResultSettingsMap": {},
     "title": ""
    },
    "id": "b7IDMSk6U7o1"
   },
   "source": [
    "List\n",
    "[]\n",
    "Heterogenous object allowed\n",
    "Duplicates are allowed\n",
    "Order is presereved\n",
    "Indexing and slicing\n",
    "Mutable"
   ]
  },
  {
   "cell_type": "code",
   "execution_count": 0,
   "metadata": {
    "application/vnd.databricks.v1+cell": {
     "cellMetadata": {},
     "inputWidgets": {},
     "nuid": "254e9997-2626-454e-9c2d-ad1599963cb8",
     "showTitle": false,
     "tableResultSettingsMap": {},
     "title": ""
    },
    "id": "3OhZLdsYU9LU"
   },
   "outputs": [],
   "source": []
  },
  {
   "cell_type": "code",
   "execution_count": 0,
   "metadata": {
    "application/vnd.databricks.v1+cell": {
     "cellMetadata": {},
     "inputWidgets": {},
     "nuid": "1b827c74-de37-4ec8-8dc3-0ddc20e30ff2",
     "showTitle": false,
     "tableResultSettingsMap": {},
     "title": ""
    },
    "colab": {
     "base_uri": "https://localhost:8080/"
    },
    "id": "Cofx6uJWVDK-",
    "outputId": "797fccf1-eb01-41d0-c772-ac3e632d1853"
   },
   "outputs": [],
   "source": [
    "l=[10,20,'SQL','AWS','AWS',True, False,99.99,10]\n",
    "print(l)\n",
    "print(id(l))\n",
    "print(type(l))\n",
    "l.append(55)\n",
    "print(l)\n",
    "print(id(l))"
   ]
  },
  {
   "cell_type": "code",
   "execution_count": 0,
   "metadata": {
    "application/vnd.databricks.v1+cell": {
     "cellMetadata": {},
     "inputWidgets": {},
     "nuid": "ffdb1905-a91d-4960-8d36-a933b2b26ffd",
     "showTitle": false,
     "tableResultSettingsMap": {},
     "title": ""
    },
    "colab": {
     "base_uri": "https://localhost:8080/"
    },
    "id": "cZvokoTTVLxE",
    "outputId": "825efb9c-2210-4c32-c928-33c85f72f438"
   },
   "outputs": [],
   "source": [
    "l=[1,2,3,'a','b']\n",
    "print(l)\n",
    "print(id(l))"
   ]
  },
  {
   "cell_type": "code",
   "execution_count": 0,
   "metadata": {
    "application/vnd.databricks.v1+cell": {
     "cellMetadata": {},
     "inputWidgets": {},
     "nuid": "dd664eac-02c5-4c2d-9997-e5ba57e36f7c",
     "showTitle": false,
     "tableResultSettingsMap": {},
     "title": ""
    },
    "colab": {
     "base_uri": "https://localhost:8080/"
    },
    "id": "-Yd0e57bVPEE",
    "outputId": "330cdec8-2f8f-451d-e1a5-951b61fb7d29"
   },
   "outputs": [],
   "source": [
    "l[:4]"
   ]
  },
  {
   "cell_type": "markdown",
   "metadata": {
    "application/vnd.databricks.v1+cell": {
     "cellMetadata": {},
     "inputWidgets": {},
     "nuid": "4c4ba4c5-7e8b-469a-b5a8-d3570ee211e3",
     "showTitle": false,
     "tableResultSettingsMap": {},
     "title": ""
    },
    "id": "ocljLfXQWMjK"
   },
   "source": [
    "Tuple\n",
    "\n",
    "Excatly same as list except that it is immutable\n",
    "\n",
    "Read only version of list is tuple\n",
    "\n",
    "()\n",
    "\n",
    "append function wont work"
   ]
  },
  {
   "cell_type": "code",
   "execution_count": 0,
   "metadata": {
    "application/vnd.databricks.v1+cell": {
     "cellMetadata": {},
     "inputWidgets": {},
     "nuid": "5c258390-4868-487e-bb4c-e87653bcdd38",
     "showTitle": false,
     "tableResultSettingsMap": {},
     "title": ""
    },
    "id": "lz0OHN5MWRqS"
   },
   "outputs": [],
   "source": [
    "t=(10,10,'a',True,'asjkd', \"ashdkashd\", False)"
   ]
  },
  {
   "cell_type": "code",
   "execution_count": 0,
   "metadata": {
    "application/vnd.databricks.v1+cell": {
     "cellMetadata": {},
     "inputWidgets": {},
     "nuid": "7d284116-cc81-45c9-8103-13ee4244c481",
     "showTitle": false,
     "tableResultSettingsMap": {},
     "title": ""
    },
    "colab": {
     "base_uri": "https://localhost:8080/"
    },
    "id": "N2iZaw3sWWp7",
    "outputId": "4d3d12fd-1975-4e92-edde-2263fe8fc62c"
   },
   "outputs": [],
   "source": [
    "print (t[2:5])\n",
    "print (t[-1])\n"
   ]
  },
  {
   "cell_type": "markdown",
   "metadata": {
    "application/vnd.databricks.v1+cell": {
     "cellMetadata": {},
     "inputWidgets": {},
     "nuid": "bbc8a7d5-b858-48be-ab04-d672f91e5b8d",
     "showTitle": false,
     "tableResultSettingsMap": {},
     "title": ""
    },
    "id": "MdUE2wTzYbCR"
   },
   "source": [
    "#set\n",
    "\n",
    "{}\n",
    "\n",
    "Hetergenous objects are allowed\n",
    "\n",
    "Duplicates are not allowed\n",
    "\n",
    "Order is NOT preserved\n",
    "\n",
    "Indexing and slicing NOT support\n",
    "\n",
    "Mutable"
   ]
  },
  {
   "cell_type": "code",
   "execution_count": 0,
   "metadata": {
    "application/vnd.databricks.v1+cell": {
     "cellMetadata": {},
     "inputWidgets": {},
     "nuid": "6cea91d7-276f-4e1d-aec4-9d338cff9a37",
     "showTitle": false,
     "tableResultSettingsMap": {},
     "title": ""
    },
    "colab": {
     "base_uri": "https://localhost:8080/"
    },
    "id": "uUA95S93WrJu",
    "outputId": "5257c8ef-d558-4cc2-e3c8-8c273371557e"
   },
   "outputs": [],
   "source": [
    "s={10,10,20,30,30,'A',True,'A','Python',20}\n",
    "print(s)"
   ]
  },
  {
   "cell_type": "code",
   "execution_count": 0,
   "metadata": {
    "application/vnd.databricks.v1+cell": {
     "cellMetadata": {},
     "inputWidgets": {},
     "nuid": "813dfcc3-f65c-471b-a342-ee992c817fb7",
     "showTitle": false,
     "tableResultSettingsMap": {},
     "title": ""
    },
    "colab": {
     "base_uri": "https://localhost:8080/"
    },
    "id": "4M9OyHAtYknv",
    "outputId": "b864f891-4048-4dd6-9d14-270da76bf520"
   },
   "outputs": [],
   "source": [
    "s.add(99)\n",
    "print(s)"
   ]
  },
  {
   "cell_type": "markdown",
   "metadata": {
    "application/vnd.databricks.v1+cell": {
     "cellMetadata": {},
     "inputWidgets": {},
     "nuid": "e1a2be7e-3dd2-46b3-82a2-2fd81e3e184f",
     "showTitle": false,
     "tableResultSettingsMap": {},
     "title": ""
    },
    "id": "tW7N0ptvZvvO"
   },
   "source": [
    "Dict\n",
    "\n",
    "{k:v}\n",
    "\n",
    "Duplicate keys are NOT allowed\n",
    "\n",
    "Duplicate values are allowed\n",
    "\n",
    "Heterogenous are allowed\n",
    "\n",
    "Mutable"
   ]
  },
  {
   "cell_type": "code",
   "execution_count": 0,
   "metadata": {
    "application/vnd.databricks.v1+cell": {
     "cellMetadata": {},
     "inputWidgets": {},
     "nuid": "d0f16570-ac03-4104-ba9d-55b485163983",
     "showTitle": false,
     "tableResultSettingsMap": {},
     "title": ""
    },
    "colab": {
     "base_uri": "https://localhost:8080/"
    },
    "id": "5LFRNn5AZ0--",
    "outputId": "777a818f-766d-445e-f236-60526681d31a"
   },
   "outputs": [],
   "source": [
    "d={1:'Naval',2:\"Ramakrishna\",3:\"Jaya\",4:\"Praveen\",5:\"Praveen\",6:True,7:100.0}\n",
    "print(d)"
   ]
  },
  {
   "cell_type": "code",
   "execution_count": 0,
   "metadata": {
    "application/vnd.databricks.v1+cell": {
     "cellMetadata": {},
     "inputWidgets": {},
     "nuid": "e0741433-0d2b-4ea6-8f81-39f8a4ada7bc",
     "showTitle": false,
     "tableResultSettingsMap": {},
     "title": ""
    },
    "id": "WM5LLJ9PZ7sw"
   },
   "outputs": [],
   "source": [
    "d[5]='Mohan'\n",
    "# changing the value of key 5"
   ]
  },
  {
   "cell_type": "code",
   "execution_count": 0,
   "metadata": {
    "application/vnd.databricks.v1+cell": {
     "cellMetadata": {},
     "inputWidgets": {},
     "nuid": "ccc458c8-633f-4a6d-9be1-b416e7d2857e",
     "showTitle": false,
     "tableResultSettingsMap": {},
     "title": ""
    },
    "colab": {
     "base_uri": "https://localhost:8080/"
    },
    "id": "Gui1QhKGZ9sy",
    "outputId": "172d134c-4be2-4455-a23c-bcf429aa01ef"
   },
   "outputs": [],
   "source": [
    "print(d)"
   ]
  },
  {
   "cell_type": "code",
   "execution_count": 0,
   "metadata": {
    "application/vnd.databricks.v1+cell": {
     "cellMetadata": {},
     "inputWidgets": {},
     "nuid": "4ba8b4c1-cd9e-43f7-bfe7-2bc7e27fa8c9",
     "showTitle": false,
     "tableResultSettingsMap": {},
     "title": ""
    },
    "colab": {
     "base_uri": "https://localhost:8080/"
    },
    "id": "a0pxFWJmaNr2",
    "outputId": "4a84ecd8-3b9e-4923-cadd-9c36f09e1107"
   },
   "outputs": [],
   "source": [
    "D1={\"Name\":\"Vivek\", \"LN\":\"NAnda\"}\n",
    "print(D1)"
   ]
  },
  {
   "cell_type": "markdown",
   "metadata": {
    "application/vnd.databricks.v1+cell": {
     "cellMetadata": {},
     "inputWidgets": {},
     "nuid": "fcd3139f-2434-41f2-a946-bebd491d605d",
     "showTitle": false,
     "tableResultSettingsMap": {},
     "title": ""
    },
    "id": "tbpFSFLvfVpQ"
   },
   "source": [
    "RANGE"
   ]
  },
  {
   "cell_type": "code",
   "execution_count": 0,
   "metadata": {
    "application/vnd.databricks.v1+cell": {
     "cellMetadata": {},
     "inputWidgets": {},
     "nuid": "819cf972-5f1d-48e5-aea4-c4901a610132",
     "showTitle": false,
     "tableResultSettingsMap": {},
     "title": ""
    },
    "colab": {
     "base_uri": "https://localhost:8080/"
    },
    "id": "HrWiyF4AfXbY",
    "outputId": "893e3e72-c90d-42c5-936f-285d42b7b571"
   },
   "outputs": [],
   "source": [
    "range(10)\n",
    "\n"
   ]
  },
  {
   "cell_type": "code",
   "execution_count": 0,
   "metadata": {
    "application/vnd.databricks.v1+cell": {
     "cellMetadata": {},
     "inputWidgets": {},
     "nuid": "7bca804e-932d-46fa-9451-693752a08a8d",
     "showTitle": false,
     "tableResultSettingsMap": {},
     "title": ""
    },
    "colab": {
     "base_uri": "https://localhost:8080/"
    },
    "id": "ftKUPI6SgEK3",
    "outputId": "f3c418f7-8975-46dc-e9a8-a039d3fdf794"
   },
   "outputs": [],
   "source": [
    "  for i in range(10):\n",
    "      print(i)\n"
   ]
  },
  {
   "cell_type": "code",
   "execution_count": 0,
   "metadata": {
    "application/vnd.databricks.v1+cell": {
     "cellMetadata": {},
     "inputWidgets": {},
     "nuid": "4296520c-8db4-474a-b8d9-f0e950ad1144",
     "showTitle": false,
     "tableResultSettingsMap": {},
     "title": ""
    },
    "colab": {
     "base_uri": "https://localhost:8080/"
    },
    "id": "W2dWzkFvgJEb",
    "outputId": "9a80e16b-28c6-4bb6-a325-664d8371df46"
   },
   "outputs": [],
   "source": [
    "for i in range(5,10):\n",
    "  print(i)"
   ]
  },
  {
   "cell_type": "code",
   "execution_count": 0,
   "metadata": {
    "application/vnd.databricks.v1+cell": {
     "cellMetadata": {},
     "inputWidgets": {},
     "nuid": "f8b7a3f3-1d53-4fcd-992a-fe3f0376a212",
     "showTitle": false,
     "tableResultSettingsMap": {},
     "title": ""
    },
    "colab": {
     "base_uri": "https://localhost:8080/"
    },
    "id": "LzAeDNx4gM9H",
    "outputId": "b36b014d-3224-4067-96f8-1038395ae432"
   },
   "outputs": [],
   "source": [
    "for i in range(3,33,3):\n",
    "  print(i)"
   ]
  },
  {
   "cell_type": "code",
   "execution_count": 0,
   "metadata": {
    "application/vnd.databricks.v1+cell": {
     "cellMetadata": {},
     "inputWidgets": {},
     "nuid": "9c1ece92-c6cf-451e-8142-b2ebf375a351",
     "showTitle": false,
     "tableResultSettingsMap": {},
     "title": ""
    },
    "colab": {
     "base_uri": "https://localhost:8080/"
    },
    "id": "ll9j-GYdg27u",
    "outputId": "ceee1b6a-876f-4d69-da4b-b18f61fcb821"
   },
   "outputs": [],
   "source": [
    "for i in range(100, 10, -10):\n",
    "    print(i)"
   ]
  }
 ],
 "metadata": {
  "application/vnd.databricks.v1+notebook": {
   "computePreferences": null,
   "dashboards": [],
   "environmentMetadata": null,
   "inputWidgetPreferences": null,
   "language": "python",
   "notebookMetadata": {
    "pythonIndentUnit": 4
   },
   "notebookName": "Day1_Pythonclass",
   "widgets": {}
  },
  "colab": {
   "provenance": []
  },
  "kernelspec": {
   "display_name": "Python 3",
   "name": "python3"
  },
  "language_info": {
   "name": "python"
  }
 },
 "nbformat": 4,
 "nbformat_minor": 0
}
